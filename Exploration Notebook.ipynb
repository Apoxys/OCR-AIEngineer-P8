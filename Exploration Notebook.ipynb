{
 "cells": [
  {
   "cell_type": "markdown",
   "id": "0b990b1c-0ade-4ca1-9ae6-5be0c8974942",
   "metadata": {},
   "source": [
    "# Projet_8 : cityscapes dataset"
   ]
  },
  {
   "cell_type": "markdown",
   "id": "0b682994-0603-424c-9cf8-730666111b96",
   "metadata": {},
   "source": [
    "This notebook will contain all exploration regarding the EDA of cityscape dataset, the choice of a model to segment images, and the pipeline to do it\n"
   ]
  }
 ],
 "metadata": {
  "kernelspec": {
   "display_name": "Python 3 (ipykernel)",
   "language": "python",
   "name": "python3"
  },
  "language_info": {
   "codemirror_mode": {
    "name": "ipython",
    "version": 3
   },
   "file_extension": ".py",
   "mimetype": "text/x-python",
   "name": "python",
   "nbconvert_exporter": "python",
   "pygments_lexer": "ipython3",
   "version": "3.11.11"
  }
 },
 "nbformat": 4,
 "nbformat_minor": 5
}
